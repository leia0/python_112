{
 "cells": [
  {
   "cell_type": "code",
   "execution_count": 9,
   "metadata": {},
   "outputs": [
    {
     "name": "stdout",
     "output_type": "stream",
     "text": [
      "可以考駕照\n",
      "應用程式結束\n"
     ]
    }
   ],
   "source": [
    "age = int(input('請輸入年齡!'))\n",
    "\n",
    "if age >=18: #雙向選擇\n",
    "    print('已滿18')\n",
    "    print('可以考駕照')\n",
    "else:\n",
    "    print('未滿18')\n",
    "    print(\"不可考駕照\")\n",
    "\n",
    "print('應用程式結束')\n",
    "    "
   ]
  },
  {
   "cell_type": "code",
   "execution_count": 6,
   "metadata": {},
   "outputs": [
    {
     "name": "stdout",
     "output_type": "stream",
     "text": [
      "應用程式結束\n"
     ]
    }
   ],
   "source": [
    "age = int(input('請輸入年齡!'))\n",
    "\n",
    "if age >=18: #單向選擇\n",
    "    print('滿18')\n",
    "    print(\"可以考駕照\")\n",
    "\n",
    "print('應用程式結束')"
   ]
  },
  {
   "cell_type": "code",
   "execution_count": 24,
   "metadata": {},
   "outputs": [
    {
     "name": "stdout",
     "output_type": "stream",
     "text": [
      "成績等級為:丁\n"
     ]
    }
   ],
   "source": [
    "score = int(input('請輸入成績!'))\n",
    "\n",
    "if score >=90: #多向選擇\n",
    "    grade='優'\n",
    "elif score >=80:\n",
    "    grade=\"甲\"\n",
    "elif score >=70:\n",
    "    grade='乙'\n",
    "elif score >=60:\n",
    "    grade='丙'\n",
    "else:\n",
    "    grade=\"丁\"\n",
    "\n",
    "print(f\"成績等級為:{grade}\")"
   ]
  },
  {
   "cell_type": "code",
   "execution_count": 25,
   "metadata": {},
   "outputs": [
    {
     "name": "stdout",
     "output_type": "stream",
     "text": [
      "已滿18\n",
      "可考駕照\n",
      "應用程式結束\n"
     ]
    }
   ],
   "source": [
    "age = int(input('請輸入年齡!'))\n",
    "\n",
    "if not age >=18: #邏輯運算子not_把條件運算出的布林值 轉為 相反布林值\n",
    "    print('未滿18')\n",
    "    print('不可以考駕照')\n",
    "else:\n",
    "    print('已滿18')\n",
    "    print(\"可考駕照\")\n",
    "\n",
    "print('應用程式結束')"
   ]
  },
  {
   "cell_type": "code",
   "execution_count": 33,
   "metadata": {},
   "outputs": [
    {
     "name": "stdout",
     "output_type": "stream",
     "text": [
      "獎金為:1000\n"
     ]
    }
   ],
   "source": [
    "#多向選擇\n",
    "#邏輯運算子and,or\n",
    "\n",
    "chinese = int(input('請國文輸入成績!'))\n",
    "math = int(input('請數學輸入成績!'))\n",
    "\n",
    "if chinese == 100 and math== 100: \n",
    "    bonus=1000\n",
    "elif chinese ==100 or math==100:\n",
    "    bonus=500\n",
    "else:\n",
    "    bonus=0\n",
    "\n",
    "print(f\"獎金為:{bonus}\")"
   ]
  },
  {
   "cell_type": "code",
   "execution_count": null,
   "metadata": {},
   "outputs": [],
   "source": []
  }
 ],
 "metadata": {
  "kernelspec": {
   "display_name": "Python 3",
   "language": "python",
   "name": "python3"
  },
  "language_info": {
   "codemirror_mode": {
    "name": "ipython",
    "version": 3
   },
   "file_extension": ".py",
   "mimetype": "text/x-python",
   "name": "python",
   "nbconvert_exporter": "python",
   "pygments_lexer": "ipython3",
   "version": "3.9.16"
  },
  "orig_nbformat": 4
 },
 "nbformat": 4,
 "nbformat_minor": 2
}
