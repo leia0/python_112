{
 "cells": [
  {
   "cell_type": "code",
   "execution_count": 1,
   "metadata": {},
   "outputs": [],
   "source": [
    "#自訂funtion,1個參數\n",
    "#定義(參數)\n",
    "\n",
    "def get_factor(para1):\n",
    "    #num = int(input(\"請輸入一個數值，並求其因數:\"))\n",
    "    print(f\"{para1}的因數是:\")\n",
    "    for i in range(1,para1+1):\n",
    "        if para1 % i ==0:\n",
    "            print(i)\n",
    "    print(\"===================結束\")\n"
   ]
  },
  {
   "cell_type": "code",
   "execution_count": 2,
   "metadata": {},
   "outputs": [
    {
     "name": "stdout",
     "output_type": "stream",
     "text": [
      "78的因數是:\n",
      "1\n",
      "2\n",
      "3\n",
      "6\n",
      "13\n",
      "26\n",
      "39\n",
      "78\n",
      "===================結束\n",
      "95的因數是:\n",
      "1\n",
      "5\n",
      "19\n",
      "95\n",
      "===================結束\n",
      "107的因數是:\n",
      "1\n",
      "107\n",
      "===================結束\n",
      "45的因數是:\n",
      "1\n",
      "3\n",
      "5\n",
      "9\n",
      "15\n",
      "45\n",
      "===================結束\n",
      "25的因數是:\n",
      "1\n",
      "5\n",
      "25\n",
      "===================結束\n"
     ]
    }
   ],
   "source": [
    "#呼叫funtion\n",
    "'''引數值 真正的值'''\n",
    "#get_factor(10)\n",
    "#get_factor(57)\n",
    "\n",
    "   \n",
    "for num in [78, 95, 107, 45, 25]:\n",
    "    get_factor(num)\n",
    "\n"
   ]
  },
  {
   "cell_type": "code",
   "execution_count": 3,
   "metadata": {},
   "outputs": [],
   "source": [
    "#return_被呼叫時傳出值 \n",
    "\n",
    "def generate_stu():\n",
    "    return[78,98,65,91,78]\n",
    "\n"
   ]
  },
  {
   "cell_type": "code",
   "execution_count": 5,
   "metadata": {},
   "outputs": [
    {
     "data": {
      "text/plain": [
       "[78, 98, 65, 91, 78]"
      ]
     },
     "execution_count": 5,
     "metadata": {},
     "output_type": "execute_result"
    }
   ],
   "source": [
    "generate_stu()\n"
   ]
  },
  {
   "cell_type": "code",
   "execution_count": 29,
   "metadata": {},
   "outputs": [],
   "source": [
    "import random\n",
    "\n",
    "def generate_stu():\n",
    "    return[random.randint(0,1000),random.randint(0,1000),random.randint(0,1000),random.randint(0,1000),random.randint(0,1000)]"
   ]
  },
  {
   "cell_type": "code",
   "execution_count": 30,
   "metadata": {},
   "outputs": [
    {
     "name": "stdout",
     "output_type": "stream",
     "text": [
      "[[145, 275, 788, 890, 566], [20, 167, 391, 522, 794], [849, 619, 726, 122, 980]]\n"
     ]
    }
   ],
   "source": [
    "student = [generate_stu(),generate_stu(),generate_stu()]\n",
    "print(student)"
   ]
  },
  {
   "cell_type": "code",
   "execution_count": 32,
   "metadata": {},
   "outputs": [
    {
     "name": "stdout",
     "output_type": "stream",
     "text": [
      "812\n",
      "971\n",
      "404\n",
      "271\n",
      "41\n",
      "===================\n",
      "256\n",
      "117\n",
      "650\n",
      "736\n",
      "63\n",
      "===================\n",
      "205\n",
      "322\n",
      "432\n",
      "645\n",
      "278\n",
      "===================\n"
     ]
    }
   ],
   "source": [
    "students = [generate_stu(),generate_stu(),generate_stu()]\n",
    "\n",
    "'''for student in students:\n",
    "    print(student)'''\n",
    "\n",
    "for student in students:\n",
    "    for value in student:\n",
    "        print(value)\n",
    "    print(\"===================\")"
   ]
  }
 ],
 "metadata": {
  "kernelspec": {
   "display_name": "Python 3",
   "language": "python",
   "name": "python3"
  },
  "language_info": {
   "codemirror_mode": {
    "name": "ipython",
    "version": 3
   },
   "file_extension": ".py",
   "mimetype": "text/x-python",
   "name": "python",
   "nbconvert_exporter": "python",
   "pygments_lexer": "ipython3",
   "version": "3.9.16"
  },
  "orig_nbformat": 4
 },
 "nbformat": 4,
 "nbformat_minor": 2
}
