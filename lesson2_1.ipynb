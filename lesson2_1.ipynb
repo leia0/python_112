{
 "cells": [
  {
   "cell_type": "code",
   "execution_count": 6,
   "metadata": {},
   "outputs": [
    {
     "name": "stdout",
     "output_type": "stream",
     "text": [
      "15\n"
     ]
    }
   ],
   "source": [
    "n = 5\n",
    "m = 10\n",
    "\n",
    "result = input(f'請輸入數值 {n} + {m} 的數值:')\n",
    "#input()方法裡只能用1個字串\n",
    "print(result)"
   ]
  },
  {
   "cell_type": "markdown",
   "metadata": {},
   "source": []
  },
  {
   "cell_type": "code",
   "execution_count": 11,
   "metadata": {},
   "outputs": [
    {
     "name": "stdout",
     "output_type": "stream",
     "text": [
      "25.5 + 41.0 + 452.99 = 519.49\n"
     ]
    }
   ],
   "source": [
    "n = float(input(\"請輸入第1個數:\"))\n",
    "m = float(input(\"請輸入第2個數:\"))\n",
    "x = float(input(\"請輸入第1個數:\"))\n",
    "\n",
    "result = n + m + x\n",
    "print(f'{n} + {m} + {x} = {result}')\n"
   ]
  },
  {
   "cell_type": "code",
   "execution_count": 13,
   "metadata": {},
   "outputs": [
    {
     "name": "stdout",
     "output_type": "stream",
     "text": [
      "總合為 = 1129.7115000000001\n"
     ]
    }
   ],
   "source": [
    "n = 0\n",
    "n = float(input(\"請輸入第1個數:\"))\n",
    "result += n\n",
    "n = float(input(\"請輸入第2個數:\"))\n",
    "result += n\n",
    "n = float(input(\"請輸入第1個數:\"))\n",
    "result += n\n",
    "\n",
    "print(f'總合為 = {result}')\n"
   ]
  },
  {
   "cell_type": "code",
   "execution_count": 17,
   "metadata": {},
   "outputs": [
    {
     "name": "stdout",
     "output_type": "stream",
     "text": [
      "梯形的面積:15平方公分\n"
     ]
    }
   ],
   "source": [
    "n = float(input(\"請輸入梯形上底(公分):\"))\n",
    "m = float(input(\"請輸入梯形下底(公分):\"))\n",
    "x = float(input(\"請輸入梯形高(公分):\"))\n",
    "result = int((n + m)*x/2)\n",
    "\n",
    "print(f'梯形的面積:{result}平方公分')"
   ]
  },
  {
   "cell_type": "code",
   "execution_count": 23,
   "metadata": {},
   "outputs": [
    {
     "name": "stdout",
     "output_type": "stream",
     "text": [
      "直角三角形的角度為:41.81\n"
     ]
    }
   ],
   "source": [
    "#應用python內建函式library\n",
    "\n",
    "import math\n",
    "n = float(input(\"請使用者輸入直角三角形的對邊:\"))\n",
    "m = float(input(\"請使用者輸入直角三角形的斜邊:\"))\n",
    "degree = math.degrees(math.asin(m/n))\n",
    "\n",
    "print(f\"直角三角形的角度為:{round(degree,2)}\")"
   ]
  },
  {
   "cell_type": "code",
   "execution_count": 4,
   "metadata": {},
   "outputs": [
    {
     "name": "stdout",
     "output_type": "stream",
     "text": [
      "140106148610320 <class 'int'>\n"
     ]
    }
   ],
   "source": [
    "x=1\n",
    "x=2\n",
    "print(id(x),type(x))"
   ]
  },
  {
   "cell_type": "code",
   "execution_count": 5,
   "metadata": {},
   "outputs": [],
   "source": [
    "def hello(text, name):\n",
    "    return f'hello {text}, hello {name}'"
   ]
  },
  {
   "cell_type": "code",
   "execution_count": 4,
   "metadata": {},
   "outputs": [
    {
     "name": "stdout",
     "output_type": "stream",
     "text": [
      "hh <class 'str'>\n",
      "test$@@\n"
     ]
    }
   ],
   "source": [
    "a=input(\"請輸入\")\n",
    "print(a,a.__class__)\n",
    "a,b,c=\"test\",\"$\",\"@\"\n",
    "test=a+b+c*2\n",
    "print(test)"
   ]
  },
  {
   "cell_type": "code",
   "execution_count": 6,
   "metadata": {},
   "outputs": [
    {
     "name": "stdout",
     "output_type": "stream",
     "text": [
      "13\n"
     ]
    }
   ],
   "source": [
    "x=5\n",
    "y=7\n",
    "z=x+y+1\n",
    "print(z)"
   ]
  }
 ],
 "metadata": {
  "kernelspec": {
   "display_name": "Python 3",
   "language": "python",
   "name": "python3"
  },
  "language_info": {
   "codemirror_mode": {
    "name": "ipython",
    "version": 3
   },
   "file_extension": ".py",
   "mimetype": "text/x-python",
   "name": "python",
   "nbconvert_exporter": "python",
   "pygments_lexer": "ipython3",
   "version": "3.10.4"
  },
  "orig_nbformat": 4
 },
 "nbformat": 4,
 "nbformat_minor": 2
}
