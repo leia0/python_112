{
 "cells": [
  {
   "cell_type": "code",
   "execution_count": 2,
   "metadata": {},
   "outputs": [
    {
     "name": "stdout",
     "output_type": "stream",
     "text": [
      "共存入500，尚差29500元\n",
      "共存入800，尚差29200元\n",
      "共存入30000，尚差0元\n",
      "存3月，共存30000元整\n"
     ]
    }
   ],
   "source": [
    "#迴圈_while\n",
    "deposit = 0\n",
    "num = 0\n",
    "\n",
    "while (deposit < 30000):\n",
    "     num += 1\n",
    "     input_value = int(input(f\"請輸入第{num}月份存款:\"))\n",
    "     deposit += input_value\n",
    "     print(f\"共存入{deposit}，尚差{30000-deposit}元\")\n",
    "\n",
    "print(f\"存{num}月，共存{deposit}元整\")\n",
    "\n"
   ]
  }
 ],
 "metadata": {
  "kernelspec": {
   "display_name": "Python 3",
   "language": "python",
   "name": "python3"
  },
  "language_info": {
   "codemirror_mode": {
    "name": "ipython",
    "version": 3
   },
   "file_extension": ".py",
   "mimetype": "text/x-python",
   "name": "python",
   "nbconvert_exporter": "python",
   "pygments_lexer": "ipython3",
   "version": "3.9.16"
  },
  "orig_nbformat": 4
 },
 "nbformat": 4,
 "nbformat_minor": 2
}
